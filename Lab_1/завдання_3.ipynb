{
 "cells": [
  {
   "cell_type": "markdown",
   "metadata": {},
   "source": [
    "# 1. Markdown cells\n",
    "* Hi! its Main Academy?\n",
    "* All HTML tabs are supported!\n",
    "* Моя сторинка на [Линкедин](www.linkedin.com)\n",
    "\n",
    "## This is Heading 1\n",
    "\n",
    "### This is Heading 2\n",
    "\n",
    "some gray colored text:\n",
    "> This is where we can bring qoutes and present them nicely \n",
    "\n",
    "And this is paragraph about something very important. Even math:\n",
    "\n",
    "$$y_{sub} = \\sqrt{x_{sub}}$$\n",
    "\n",
    "Or python code example:\n",
    "\n",
    "    import math\n",
    "    def foo():\n",
    "        return \"foo\""
   ]
  },
  {
   "cell_type": "code",
   "execution_count": null,
   "metadata": {},
   "outputs": [],
   "source": []
  }
 ],
 "metadata": {
  "kernelspec": {
   "display_name": "Python 3",
   "language": "python",
   "name": "python3"
  },
  "language_info": {
   "codemirror_mode": {
    "name": "ipython",
    "version": 3
   },
   "file_extension": ".py",
   "mimetype": "text/x-python",
   "name": "python",
   "nbconvert_exporter": "python",
   "pygments_lexer": "ipython3",
   "version": "3.8.5"
  }
 },
 "nbformat": 4,
 "nbformat_minor": 4
}
