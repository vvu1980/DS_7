{
 "cells": [
  {
   "cell_type": "markdown",
   "metadata": {},
   "source": [
    "___\n",
    "\n",
    "<a href='https://mainacademy.ua/'> <img src='https://mainacademy.ua/wp-content/uploads/2019/03/logo-main.png' alt = 'Хмм, щось з інтернетом'/></a>\n",
    "___\n",
    "\n",
    "# Module 8: Unsupervised learning"
   ]
  },
  {
   "cell_type": "markdown",
   "metadata": {},
   "source": [
    "## Lab work 8\n",
    "\n"
   ]
  },
  {
   "cell_type": "markdown",
   "metadata": {},
   "source": [
    "#### Мета: \n",
    "\n",
    "* навчитися використовувати моделі без учителем"
   ]
  },
  {
   "cell_type": "markdown",
   "metadata": {},
   "source": [
    "### Завдання 1:"
   ]
  },
  {
   "cell_type": "markdown",
   "metadata": {},
   "source": [
    "Опрацюйте файл `Groceries.csv`. Використовуючи алгоритм асоціативних зв'язків, знайдіть:\n",
    "- зробіть описову статистику даного файлу\n",
    "- ведіть топ-3 продукти, що продаються\n",
    "- виведіть топ-2 пари продуктів, що продаються\n",
    "- придумайте, як отриману інформацію можна використатти (опишіть в 3-4 реченнях)"
   ]
  },
  {
   "cell_type": "code",
   "execution_count": 1,
   "metadata": {},
   "outputs": [],
   "source": [
    "import pandas as pd\n",
    "import seaborn as sns\n",
    "from mlxtend.frequent_patterns import apriori, association_rules\n",
    "import matplotlib.pyplot as plt"
   ]
  },
  {
   "cell_type": "code",
   "execution_count": 2,
   "metadata": {},
   "outputs": [],
   "source": [
    "gr_df = pd.read_csv(r'D:\\Работа ВВЮ\\DataScience\\groceries.csv')"
   ]
  },
  {
   "cell_type": "markdown",
   "metadata": {},
   "source": [
    "### зробіть описову статистику даного файлу"
   ]
  },
  {
   "cell_type": "code",
   "execution_count": 3,
   "metadata": {},
   "outputs": [
    {
     "data": {
      "text/html": [
       "<div>\n",
       "<style scoped>\n",
       "    .dataframe tbody tr th:only-of-type {\n",
       "        vertical-align: middle;\n",
       "    }\n",
       "\n",
       "    .dataframe tbody tr th {\n",
       "        vertical-align: top;\n",
       "    }\n",
       "\n",
       "    .dataframe thead th {\n",
       "        text-align: right;\n",
       "    }\n",
       "</style>\n",
       "<table border=\"1\" class=\"dataframe\">\n",
       "  <thead>\n",
       "    <tr style=\"text-align: right;\">\n",
       "      <th></th>\n",
       "      <th>Item 1</th>\n",
       "      <th>Item 2</th>\n",
       "      <th>Item 3</th>\n",
       "      <th>Item 4</th>\n",
       "      <th>Item 5</th>\n",
       "      <th>Item 6</th>\n",
       "      <th>Item 7</th>\n",
       "      <th>Item 8</th>\n",
       "      <th>Item 9</th>\n",
       "      <th>Item 10</th>\n",
       "      <th>...</th>\n",
       "      <th>Item 23</th>\n",
       "      <th>Item 24</th>\n",
       "      <th>Item 25</th>\n",
       "      <th>Item 26</th>\n",
       "      <th>Item 27</th>\n",
       "      <th>Item 28</th>\n",
       "      <th>Item 29</th>\n",
       "      <th>Item 30</th>\n",
       "      <th>Item 31</th>\n",
       "      <th>Item 32</th>\n",
       "    </tr>\n",
       "  </thead>\n",
       "  <tbody>\n",
       "    <tr>\n",
       "      <th>0</th>\n",
       "      <td>citrus fruit</td>\n",
       "      <td>semi-finished bread</td>\n",
       "      <td>margarine</td>\n",
       "      <td>ready soups</td>\n",
       "      <td>NaN</td>\n",
       "      <td>NaN</td>\n",
       "      <td>NaN</td>\n",
       "      <td>NaN</td>\n",
       "      <td>NaN</td>\n",
       "      <td>NaN</td>\n",
       "      <td>...</td>\n",
       "      <td>NaN</td>\n",
       "      <td>NaN</td>\n",
       "      <td>NaN</td>\n",
       "      <td>NaN</td>\n",
       "      <td>NaN</td>\n",
       "      <td>NaN</td>\n",
       "      <td>NaN</td>\n",
       "      <td>NaN</td>\n",
       "      <td>NaN</td>\n",
       "      <td>NaN</td>\n",
       "    </tr>\n",
       "    <tr>\n",
       "      <th>1</th>\n",
       "      <td>tropical fruit</td>\n",
       "      <td>yogurt</td>\n",
       "      <td>coffee</td>\n",
       "      <td>NaN</td>\n",
       "      <td>NaN</td>\n",
       "      <td>NaN</td>\n",
       "      <td>NaN</td>\n",
       "      <td>NaN</td>\n",
       "      <td>NaN</td>\n",
       "      <td>NaN</td>\n",
       "      <td>...</td>\n",
       "      <td>NaN</td>\n",
       "      <td>NaN</td>\n",
       "      <td>NaN</td>\n",
       "      <td>NaN</td>\n",
       "      <td>NaN</td>\n",
       "      <td>NaN</td>\n",
       "      <td>NaN</td>\n",
       "      <td>NaN</td>\n",
       "      <td>NaN</td>\n",
       "      <td>NaN</td>\n",
       "    </tr>\n",
       "    <tr>\n",
       "      <th>2</th>\n",
       "      <td>whole milk</td>\n",
       "      <td>NaN</td>\n",
       "      <td>NaN</td>\n",
       "      <td>NaN</td>\n",
       "      <td>NaN</td>\n",
       "      <td>NaN</td>\n",
       "      <td>NaN</td>\n",
       "      <td>NaN</td>\n",
       "      <td>NaN</td>\n",
       "      <td>NaN</td>\n",
       "      <td>...</td>\n",
       "      <td>NaN</td>\n",
       "      <td>NaN</td>\n",
       "      <td>NaN</td>\n",
       "      <td>NaN</td>\n",
       "      <td>NaN</td>\n",
       "      <td>NaN</td>\n",
       "      <td>NaN</td>\n",
       "      <td>NaN</td>\n",
       "      <td>NaN</td>\n",
       "      <td>NaN</td>\n",
       "    </tr>\n",
       "    <tr>\n",
       "      <th>3</th>\n",
       "      <td>pip fruit</td>\n",
       "      <td>yogurt</td>\n",
       "      <td>cream cheese</td>\n",
       "      <td>meat spreads</td>\n",
       "      <td>NaN</td>\n",
       "      <td>NaN</td>\n",
       "      <td>NaN</td>\n",
       "      <td>NaN</td>\n",
       "      <td>NaN</td>\n",
       "      <td>NaN</td>\n",
       "      <td>...</td>\n",
       "      <td>NaN</td>\n",
       "      <td>NaN</td>\n",
       "      <td>NaN</td>\n",
       "      <td>NaN</td>\n",
       "      <td>NaN</td>\n",
       "      <td>NaN</td>\n",
       "      <td>NaN</td>\n",
       "      <td>NaN</td>\n",
       "      <td>NaN</td>\n",
       "      <td>NaN</td>\n",
       "    </tr>\n",
       "    <tr>\n",
       "      <th>4</th>\n",
       "      <td>other vegetables</td>\n",
       "      <td>whole milk</td>\n",
       "      <td>condensed milk</td>\n",
       "      <td>long life bakery product</td>\n",
       "      <td>NaN</td>\n",
       "      <td>NaN</td>\n",
       "      <td>NaN</td>\n",
       "      <td>NaN</td>\n",
       "      <td>NaN</td>\n",
       "      <td>NaN</td>\n",
       "      <td>...</td>\n",
       "      <td>NaN</td>\n",
       "      <td>NaN</td>\n",
       "      <td>NaN</td>\n",
       "      <td>NaN</td>\n",
       "      <td>NaN</td>\n",
       "      <td>NaN</td>\n",
       "      <td>NaN</td>\n",
       "      <td>NaN</td>\n",
       "      <td>NaN</td>\n",
       "      <td>NaN</td>\n",
       "    </tr>\n",
       "  </tbody>\n",
       "</table>\n",
       "<p>5 rows × 32 columns</p>\n",
       "</div>"
      ],
      "text/plain": [
       "             Item 1               Item 2          Item 3  \\\n",
       "0      citrus fruit  semi-finished bread       margarine   \n",
       "1    tropical fruit               yogurt          coffee   \n",
       "2        whole milk                  NaN             NaN   \n",
       "3         pip fruit               yogurt    cream cheese   \n",
       "4  other vegetables           whole milk  condensed milk   \n",
       "\n",
       "                     Item 4 Item 5 Item 6 Item 7 Item 8 Item 9 Item 10  ...  \\\n",
       "0               ready soups    NaN    NaN    NaN    NaN    NaN     NaN  ...   \n",
       "1                       NaN    NaN    NaN    NaN    NaN    NaN     NaN  ...   \n",
       "2                       NaN    NaN    NaN    NaN    NaN    NaN     NaN  ...   \n",
       "3              meat spreads    NaN    NaN    NaN    NaN    NaN     NaN  ...   \n",
       "4  long life bakery product    NaN    NaN    NaN    NaN    NaN     NaN  ...   \n",
       "\n",
       "  Item 23 Item 24 Item 25 Item 26 Item 27 Item 28 Item 29 Item 30 Item 31  \\\n",
       "0     NaN     NaN     NaN     NaN     NaN     NaN     NaN     NaN     NaN   \n",
       "1     NaN     NaN     NaN     NaN     NaN     NaN     NaN     NaN     NaN   \n",
       "2     NaN     NaN     NaN     NaN     NaN     NaN     NaN     NaN     NaN   \n",
       "3     NaN     NaN     NaN     NaN     NaN     NaN     NaN     NaN     NaN   \n",
       "4     NaN     NaN     NaN     NaN     NaN     NaN     NaN     NaN     NaN   \n",
       "\n",
       "  Item 32  \n",
       "0     NaN  \n",
       "1     NaN  \n",
       "2     NaN  \n",
       "3     NaN  \n",
       "4     NaN  \n",
       "\n",
       "[5 rows x 32 columns]"
      ]
     },
     "execution_count": 3,
     "metadata": {},
     "output_type": "execute_result"
    }
   ],
   "source": [
    "gr_df=gr_df.drop('Item(s)', axis = 1)\n",
    "gr_df.head()"
   ]
  },
  {
   "cell_type": "code",
   "execution_count": 4,
   "metadata": {},
   "outputs": [
    {
     "data": {
      "text/plain": [
       "(9835, 32)"
      ]
     },
     "execution_count": 4,
     "metadata": {},
     "output_type": "execute_result"
    }
   ],
   "source": [
    "gr_df.shape"
   ]
  },
  {
   "cell_type": "code",
   "execution_count": 5,
   "metadata": {},
   "outputs": [
    {
     "data": {
      "text/plain": [
       "Item 1        0\n",
       "Item 2     2159\n",
       "Item 3     3802\n",
       "Item 4     5101\n",
       "Item 5     6106\n",
       "Item 6     6961\n",
       "Item 7     7606\n",
       "Item 8     8151\n",
       "Item 9     8589\n",
       "Item 10    8939\n",
       "Item 11    9185\n",
       "Item 12    9367\n",
       "Item 13    9484\n",
       "Item 14    9562\n",
       "Item 15    9639\n",
       "Item 16    9694\n",
       "Item 17    9740\n",
       "Item 18    9769\n",
       "Item 19    9783\n",
       "Item 20    9797\n",
       "Item 21    9806\n",
       "Item 22    9817\n",
       "Item 23    9821\n",
       "Item 24    9827\n",
       "Item 25    9828\n",
       "Item 26    9828\n",
       "Item 27    9829\n",
       "Item 28    9830\n",
       "Item 29    9831\n",
       "Item 30    9834\n",
       "Item 31    9834\n",
       "Item 32    9834\n",
       "dtype: int64"
      ]
     },
     "execution_count": 5,
     "metadata": {},
     "output_type": "execute_result"
    }
   ],
   "source": [
    "gr_df.isnull().sum()"
   ]
  },
  {
   "cell_type": "code",
   "execution_count": 6,
   "metadata": {},
   "outputs": [
    {
     "name": "stdout",
     "output_type": "stream",
     "text": [
      "{nan, 'hamburger meat', 'frozen fish', 'waffles', 'pork', 'decalcifier', 'dishes', 'cocoa drinks', 'canned fruit', 'fruit/vegetable juice', 'canned fish', 'soda', 'dog food', 'hair spray', 'pasta', 'seasonal products', 'turkey', 'skin care', 'beef', 'frozen chicken', 'hygiene articles', 'zwieback', 'candles', 'fish', 'sweet spreads', 'mustard', 'nut snack', 'sausage', 'specialty chocolate', 'sliced cheese', 'curd cheese', 'yogurt', 'domestic eggs', 'rubbing alcohol', 'artif. sweetener', 'grapes', 'organic products', 'house keeping products', 'whipped/sour cream', 'pip fruit', 'jam', 'popcorn', 'liquor', 'butter milk', 'specialty fat', 'processed cheese', 'flower (seeds)', 'bottled water', 'coffee', 'rum', 'kitchen towels', 'ketchup', 'frozen meals', 'cat food', 'vinegar', 'white wine', 'spread cheese', 'UHT-milk', 'chocolate', 'semi-finished bread', 'mayonnaise', 'herbs', 'photo/film', 'specialty vegetables', 'onions', 'ready soups', 'canned vegetables', 'condensed milk', 'red/blush wine', 'beverages', 'baby food', 'prosecco', 'sauces', 'baking powder', 'margarine', 'cake bar', 'nuts/prunes', 'pastry', 'newspapers', 'potato products', 'salty snack', 'cleaner', 'flour', 'syrup', 'finished products', 'berries', 'frankfurter', 'liqueur', 'salad dressing', 'male cosmetics', 'meat', 'dish cleaner', 'oil', 'tea', 'flower soil/fertilizer', 'whole milk', 'misc. beverages', 'soups', 'bottled beer', 'white bread', 'softener', 'cream cheese', 'root vegetables', 'tropical fruit', 'cream', 'sound storage medium', 'detergent', 'liquor (appetizer)', 'honey', 'cookware', 'female sanitary products', 'soft cheese', 'chocolate marshmallow', 'make up remover', 'chewing gum', 'frozen fruits', 'pet care', 'pudding powder', 'candy', 'packaged fruit/vegetables', 'brandy', 'dental care', 'organic sausage', 'chicken', 'soap', 'cereals', 'butter', 'other vegetables', 'frozen potato products', 'light bulbs', 'baby cosmetics', 'bags', 'napkins', 'brown bread', 'frozen dessert', 'cooking chocolate', 'sugar', 'long life bakery product', 'frozen vegetables', 'bathroom cleaner', 'canned beer', 'tidbits', 'instant coffee', 'shopping bags', 'snack products', 'meat spreads', 'whisky', 'preservation products', 'curd', 'abrasive cleaner', 'rice', 'dessert', 'ice cream', 'potted plants', 'kitchen utensil', 'spices', 'sparkling wine', 'hard cheese', 'pickled vegetables', 'ham', 'Instant food products', 'specialty cheese', 'salt', 'toilet cleaner', 'cling film/bags', 'roll products', 'citrus fruit', 'liver loaf', 'rolls/buns', 'specialty bar'}\n"
     ]
    }
   ],
   "source": [
    "items = set()\n",
    "for col in gr_df:\n",
    "    items.update(gr_df[col].unique())\n",
    "print(items)"
   ]
  },
  {
   "cell_type": "code",
   "execution_count": 60,
   "metadata": {},
   "outputs": [
    {
     "name": "stdout",
     "output_type": "stream",
     "text": [
      "{'hamburger meat', 'frozen fish', 'waffles', 'pork', 'decalcifier', 'dishes', 'cocoa drinks', 'canned fruit', 'fruit/vegetable juice', 'canned fish', 'soda', 'hair spray', 'dog food', 'pasta', 'seasonal products', 'turkey', 'skin care', 'beef', 'frozen chicken', 'hygiene articles', 'zwieback', 'candles', 'fish', 'sweet spreads', 'mustard', 'nut snack', 'sausage', 'specialty chocolate', 'sliced cheese', 'curd cheese', 'yogurt', 'domestic eggs', 'rubbing alcohol', 'artif. sweetener', 'grapes', 'organic products', 'house keeping products', 'whipped/sour cream', 'pip fruit', 'jam', 'popcorn', 'liquor', 'butter milk', 'specialty fat', 'processed cheese', 'flower (seeds)', 'bottled water', 'coffee', 'rum', 'kitchen towels', 'ketchup', 'frozen meals', 'cat food', 'vinegar', 'white wine', 'spread cheese', 'UHT-milk', 'chocolate', 'semi-finished bread', 'mayonnaise', 'herbs', 'photo/film', 'specialty vegetables', 'onions', 'ready soups', 'canned vegetables', 'condensed milk', 'red/blush wine', 'beverages', 'baby food', 'prosecco', 'sauces', 'baking powder', 'margarine', 'cake bar', 'nuts/prunes', 'pastry', 'newspapers', 'potato products', 'salty snack', 'cleaner', 'flour', 'syrup', 'finished products', 'berries', 'frankfurter', 'liqueur', 'salad dressing', 'male cosmetics', 'meat', 'dish cleaner', 'oil', 'tea', 'flower soil/fertilizer', 'whole milk', 'misc. beverages', 'soups', 'bottled beer', 'white bread', 'softener', 'cream cheese', 'root vegetables', 'tropical fruit', 'cream', 'sound storage medium', 'detergent', 'liquor (appetizer)', 'honey', 'cookware', 'female sanitary products', 'soft cheese', 'chocolate marshmallow', 'make up remover', 'chewing gum', 'frozen fruits', 'pet care', 'pudding powder', 'candy', 'packaged fruit/vegetables', 'brandy', 'dental care', 'organic sausage', 'chicken', 'soap', 'cereals', 'butter', 'other vegetables', 'frozen potato products', 'light bulbs', 'baby cosmetics', 'bags', 'napkins', 'brown bread', 'frozen dessert', 'cooking chocolate', 'sugar', 'long life bakery product', 'frozen vegetables', 'bathroom cleaner', 'canned beer', 'tidbits', 'instant coffee', 'shopping bags', 'snack products', 'meat spreads', 'whisky', 'preservation products', 'curd', 'abrasive cleaner', 'rice', 'dessert', 'ice cream', 'potted plants', 'kitchen utensil', 'spices', 'sparkling wine', 'hard cheese', 'pickled vegetables', 'ham', 'Instant food products', 'specialty cheese', 'salt', 'toilet cleaner', 'cling film/bags', 'roll products', 'citrus fruit', 'liver loaf', 'rolls/buns', 'specialty bar'}\n"
     ]
    }
   ],
   "source": [
    "#Уникальные товары в наборе:\n",
    "items = {x for x in items if pd.notna(x)}\n",
    "print(items)"
   ]
  },
  {
   "cell_type": "code",
   "execution_count": 61,
   "metadata": {},
   "outputs": [
    {
     "name": "stdout",
     "output_type": "stream",
     "text": [
      "Всего уникальных товаров: 169\n"
     ]
    }
   ],
   "source": [
    "print('Всего уникальных товаров:' ,len(items))"
   ]
  },
  {
   "cell_type": "code",
   "execution_count": 9,
   "metadata": {},
   "outputs": [],
   "source": [
    "itemset = set(items)\n",
    "encoded_vals = []\n",
    "for index, row in gr_df.iterrows():\n",
    "    rowset = set(row) \n",
    "    labels = {}\n",
    "    uncommons = list(itemset - rowset)\n",
    "    commons = list(itemset.intersection(rowset))\n",
    "    for uc in uncommons:\n",
    "        labels[uc] = 0\n",
    "    for com in commons:\n",
    "        labels[com] = 1\n",
    "    encoded_vals.append(labels)\n",
    "encoded_vals[0]\n",
    "ohe_df = pd.DataFrame(encoded_vals)"
   ]
  },
  {
   "cell_type": "code",
   "execution_count": 15,
   "metadata": {},
   "outputs": [
    {
     "data": {
      "text/html": [
       "<div>\n",
       "<style scoped>\n",
       "    .dataframe tbody tr th:only-of-type {\n",
       "        vertical-align: middle;\n",
       "    }\n",
       "\n",
       "    .dataframe tbody tr th {\n",
       "        vertical-align: top;\n",
       "    }\n",
       "\n",
       "    .dataframe thead th {\n",
       "        text-align: right;\n",
       "    }\n",
       "</style>\n",
       "<table border=\"1\" class=\"dataframe\">\n",
       "  <thead>\n",
       "    <tr style=\"text-align: right;\">\n",
       "      <th></th>\n",
       "      <th>hamburger meat</th>\n",
       "      <th>frozen fish</th>\n",
       "      <th>waffles</th>\n",
       "      <th>pork</th>\n",
       "      <th>decalcifier</th>\n",
       "      <th>dishes</th>\n",
       "      <th>cocoa drinks</th>\n",
       "      <th>canned fruit</th>\n",
       "      <th>fruit/vegetable juice</th>\n",
       "      <th>canned fish</th>\n",
       "      <th>...</th>\n",
       "      <th>toilet cleaner</th>\n",
       "      <th>cling film/bags</th>\n",
       "      <th>roll products</th>\n",
       "      <th>liver loaf</th>\n",
       "      <th>rolls/buns</th>\n",
       "      <th>specialty bar</th>\n",
       "      <th>semi-finished bread</th>\n",
       "      <th>citrus fruit</th>\n",
       "      <th>ready soups</th>\n",
       "      <th>margarine</th>\n",
       "    </tr>\n",
       "  </thead>\n",
       "  <tbody>\n",
       "    <tr>\n",
       "      <th>0</th>\n",
       "      <td>0</td>\n",
       "      <td>0</td>\n",
       "      <td>0</td>\n",
       "      <td>0</td>\n",
       "      <td>0</td>\n",
       "      <td>0</td>\n",
       "      <td>0</td>\n",
       "      <td>0</td>\n",
       "      <td>0</td>\n",
       "      <td>0</td>\n",
       "      <td>...</td>\n",
       "      <td>0</td>\n",
       "      <td>0</td>\n",
       "      <td>0</td>\n",
       "      <td>0</td>\n",
       "      <td>0</td>\n",
       "      <td>0</td>\n",
       "      <td>1</td>\n",
       "      <td>1</td>\n",
       "      <td>1</td>\n",
       "      <td>1</td>\n",
       "    </tr>\n",
       "    <tr>\n",
       "      <th>1</th>\n",
       "      <td>0</td>\n",
       "      <td>0</td>\n",
       "      <td>0</td>\n",
       "      <td>0</td>\n",
       "      <td>0</td>\n",
       "      <td>0</td>\n",
       "      <td>0</td>\n",
       "      <td>0</td>\n",
       "      <td>0</td>\n",
       "      <td>0</td>\n",
       "      <td>...</td>\n",
       "      <td>0</td>\n",
       "      <td>0</td>\n",
       "      <td>0</td>\n",
       "      <td>0</td>\n",
       "      <td>0</td>\n",
       "      <td>0</td>\n",
       "      <td>0</td>\n",
       "      <td>0</td>\n",
       "      <td>0</td>\n",
       "      <td>0</td>\n",
       "    </tr>\n",
       "    <tr>\n",
       "      <th>2</th>\n",
       "      <td>0</td>\n",
       "      <td>0</td>\n",
       "      <td>0</td>\n",
       "      <td>0</td>\n",
       "      <td>0</td>\n",
       "      <td>0</td>\n",
       "      <td>0</td>\n",
       "      <td>0</td>\n",
       "      <td>0</td>\n",
       "      <td>0</td>\n",
       "      <td>...</td>\n",
       "      <td>0</td>\n",
       "      <td>0</td>\n",
       "      <td>0</td>\n",
       "      <td>0</td>\n",
       "      <td>0</td>\n",
       "      <td>0</td>\n",
       "      <td>0</td>\n",
       "      <td>0</td>\n",
       "      <td>0</td>\n",
       "      <td>0</td>\n",
       "    </tr>\n",
       "    <tr>\n",
       "      <th>3</th>\n",
       "      <td>0</td>\n",
       "      <td>0</td>\n",
       "      <td>0</td>\n",
       "      <td>0</td>\n",
       "      <td>0</td>\n",
       "      <td>0</td>\n",
       "      <td>0</td>\n",
       "      <td>0</td>\n",
       "      <td>0</td>\n",
       "      <td>0</td>\n",
       "      <td>...</td>\n",
       "      <td>0</td>\n",
       "      <td>0</td>\n",
       "      <td>0</td>\n",
       "      <td>0</td>\n",
       "      <td>0</td>\n",
       "      <td>0</td>\n",
       "      <td>0</td>\n",
       "      <td>0</td>\n",
       "      <td>0</td>\n",
       "      <td>0</td>\n",
       "    </tr>\n",
       "    <tr>\n",
       "      <th>4</th>\n",
       "      <td>0</td>\n",
       "      <td>0</td>\n",
       "      <td>0</td>\n",
       "      <td>0</td>\n",
       "      <td>0</td>\n",
       "      <td>0</td>\n",
       "      <td>0</td>\n",
       "      <td>0</td>\n",
       "      <td>0</td>\n",
       "      <td>0</td>\n",
       "      <td>...</td>\n",
       "      <td>0</td>\n",
       "      <td>0</td>\n",
       "      <td>0</td>\n",
       "      <td>0</td>\n",
       "      <td>0</td>\n",
       "      <td>0</td>\n",
       "      <td>0</td>\n",
       "      <td>0</td>\n",
       "      <td>0</td>\n",
       "      <td>0</td>\n",
       "    </tr>\n",
       "  </tbody>\n",
       "</table>\n",
       "<p>5 rows × 169 columns</p>\n",
       "</div>"
      ],
      "text/plain": [
       "   hamburger meat  frozen fish  waffles  pork  decalcifier  dishes  \\\n",
       "0               0            0        0     0            0       0   \n",
       "1               0            0        0     0            0       0   \n",
       "2               0            0        0     0            0       0   \n",
       "3               0            0        0     0            0       0   \n",
       "4               0            0        0     0            0       0   \n",
       "\n",
       "   cocoa drinks  canned fruit  fruit/vegetable juice  canned fish  ...  \\\n",
       "0             0             0                      0            0  ...   \n",
       "1             0             0                      0            0  ...   \n",
       "2             0             0                      0            0  ...   \n",
       "3             0             0                      0            0  ...   \n",
       "4             0             0                      0            0  ...   \n",
       "\n",
       "   toilet cleaner  cling film/bags  roll products  liver loaf  rolls/buns  \\\n",
       "0               0                0              0           0           0   \n",
       "1               0                0              0           0           0   \n",
       "2               0                0              0           0           0   \n",
       "3               0                0              0           0           0   \n",
       "4               0                0              0           0           0   \n",
       "\n",
       "   specialty bar  semi-finished bread  citrus fruit  ready soups  margarine  \n",
       "0              0                    1             1            1          1  \n",
       "1              0                    0             0            0          0  \n",
       "2              0                    0             0            0          0  \n",
       "3              0                    0             0            0          0  \n",
       "4              0                    0             0            0          0  \n",
       "\n",
       "[5 rows x 169 columns]"
      ]
     },
     "execution_count": 15,
     "metadata": {},
     "output_type": "execute_result"
    }
   ],
   "source": [
    "ohe_df.head()"
   ]
  },
  {
   "cell_type": "code",
   "execution_count": 62,
   "metadata": {},
   "outputs": [],
   "source": [
    "#Считаем количество товаров в DataFrame\n",
    "items_list = list(items)\n",
    "dict_l = {}\n",
    "for el in items_list:\n",
    "    var = 0\n",
    "    var = ohe_df[el].sum()\n",
    "    dict_l[el] = var\n",
    "\n",
    "product = pd.DataFrame.from_dict(dict_l, orient='index',\n",
    "                       columns=['amount']) \n",
    "\n",
    "product=product.reset_index().sort_values('amount', ascending = False)"
   ]
  },
  {
   "cell_type": "markdown",
   "metadata": {},
   "source": [
    "#### виведіть топ-3 продукти, що продаються"
   ]
  },
  {
   "cell_type": "code",
   "execution_count": 59,
   "metadata": {},
   "outputs": [
    {
     "data": {
      "text/html": [
       "<div>\n",
       "<style scoped>\n",
       "    .dataframe tbody tr th:only-of-type {\n",
       "        vertical-align: middle;\n",
       "    }\n",
       "\n",
       "    .dataframe tbody tr th {\n",
       "        vertical-align: top;\n",
       "    }\n",
       "\n",
       "    .dataframe thead th {\n",
       "        text-align: right;\n",
       "    }\n",
       "</style>\n",
       "<table border=\"1\" class=\"dataframe\">\n",
       "  <thead>\n",
       "    <tr style=\"text-align: right;\">\n",
       "      <th></th>\n",
       "      <th>index</th>\n",
       "      <th>amount</th>\n",
       "    </tr>\n",
       "  </thead>\n",
       "  <tbody>\n",
       "    <tr>\n",
       "      <th>94</th>\n",
       "      <td>whole milk</td>\n",
       "      <td>2513</td>\n",
       "    </tr>\n",
       "    <tr>\n",
       "      <th>126</th>\n",
       "      <td>other vegetables</td>\n",
       "      <td>1903</td>\n",
       "    </tr>\n",
       "    <tr>\n",
       "      <th>167</th>\n",
       "      <td>rolls/buns</td>\n",
       "      <td>1809</td>\n",
       "    </tr>\n",
       "  </tbody>\n",
       "</table>\n",
       "</div>"
      ],
      "text/plain": [
       "                index  amount\n",
       "94         whole milk    2513\n",
       "126  other vegetables    1903\n",
       "167        rolls/buns    1809"
      ]
     },
     "execution_count": 59,
     "metadata": {},
     "output_type": "execute_result"
    }
   ],
   "source": [
    "product.head(3)"
   ]
  },
  {
   "cell_type": "markdown",
   "metadata": {},
   "source": [
    "#### Используем библиотеку mlxtend для поиска взаимосвязи с товарами"
   ]
  },
  {
   "cell_type": "code",
   "execution_count": 76,
   "metadata": {},
   "outputs": [
    {
     "name": "stdout",
     "output_type": "stream",
     "text": [
      "\r",
      "Processing 756 combinations | Sampling itemset size 2\r",
      "Processing 9 combinations | Sampling itemset size 3\n"
     ]
    },
    {
     "data": {
      "text/html": [
       "<div>\n",
       "<style scoped>\n",
       "    .dataframe tbody tr th:only-of-type {\n",
       "        vertical-align: middle;\n",
       "    }\n",
       "\n",
       "    .dataframe tbody tr th {\n",
       "        vertical-align: top;\n",
       "    }\n",
       "\n",
       "    .dataframe thead th {\n",
       "        text-align: right;\n",
       "    }\n",
       "</style>\n",
       "<table border=\"1\" class=\"dataframe\">\n",
       "  <thead>\n",
       "    <tr style=\"text-align: right;\">\n",
       "      <th></th>\n",
       "      <th>support</th>\n",
       "      <th>itemsets</th>\n",
       "    </tr>\n",
       "  </thead>\n",
       "  <tbody>\n",
       "    <tr>\n",
       "      <th>2</th>\n",
       "      <td>0.174377</td>\n",
       "      <td>(soda)</td>\n",
       "    </tr>\n",
       "    <tr>\n",
       "      <th>5</th>\n",
       "      <td>0.139502</td>\n",
       "      <td>(yogurt)</td>\n",
       "    </tr>\n",
       "    <tr>\n",
       "      <th>4</th>\n",
       "      <td>0.093950</td>\n",
       "      <td>(sausage)</td>\n",
       "    </tr>\n",
       "    <tr>\n",
       "      <th>1</th>\n",
       "      <td>0.072293</td>\n",
       "      <td>(fruit/vegetable juice)</td>\n",
       "    </tr>\n",
       "    <tr>\n",
       "      <th>6</th>\n",
       "      <td>0.063447</td>\n",
       "      <td>(domestic eggs)</td>\n",
       "    </tr>\n",
       "    <tr>\n",
       "      <th>0</th>\n",
       "      <td>0.057651</td>\n",
       "      <td>(pork)</td>\n",
       "    </tr>\n",
       "    <tr>\n",
       "      <th>3</th>\n",
       "      <td>0.052466</td>\n",
       "      <td>(beef)</td>\n",
       "    </tr>\n",
       "  </tbody>\n",
       "</table>\n",
       "</div>"
      ],
      "text/plain": [
       "    support                 itemsets\n",
       "2  0.174377                   (soda)\n",
       "5  0.139502                 (yogurt)\n",
       "4  0.093950                (sausage)\n",
       "1  0.072293  (fruit/vegetable juice)\n",
       "6  0.063447          (domestic eggs)\n",
       "0  0.057651                   (pork)\n",
       "3  0.052466                   (beef)"
      ]
     },
     "execution_count": 76,
     "metadata": {},
     "output_type": "execute_result"
    }
   ],
   "source": [
    "freq_items = apriori(ohe_df, min_support=0.05, use_colnames=True, verbose=1)\n",
    "freq_items.head(7).sort_values('support', ascending = False)"
   ]
  },
  {
   "cell_type": "markdown",
   "metadata": {},
   "source": [
    "#### Выводим наиболее связанные товары мыжду собой"
   ]
  },
  {
   "cell_type": "code",
   "execution_count": 75,
   "metadata": {},
   "outputs": [
    {
     "data": {
      "text/html": [
       "<div>\n",
       "<style scoped>\n",
       "    .dataframe tbody tr th:only-of-type {\n",
       "        vertical-align: middle;\n",
       "    }\n",
       "\n",
       "    .dataframe tbody tr th {\n",
       "        vertical-align: top;\n",
       "    }\n",
       "\n",
       "    .dataframe thead th {\n",
       "        text-align: right;\n",
       "    }\n",
       "</style>\n",
       "<table border=\"1\" class=\"dataframe\">\n",
       "  <thead>\n",
       "    <tr style=\"text-align: right;\">\n",
       "      <th></th>\n",
       "      <th>antecedents</th>\n",
       "      <th>consequents</th>\n",
       "      <th>antecedent support</th>\n",
       "      <th>consequent support</th>\n",
       "      <th>support</th>\n",
       "      <th>confidence</th>\n",
       "      <th>lift</th>\n",
       "      <th>leverage</th>\n",
       "      <th>conviction</th>\n",
       "    </tr>\n",
       "  </thead>\n",
       "  <tbody>\n",
       "    <tr>\n",
       "      <th>1</th>\n",
       "      <td>(yogurt)</td>\n",
       "      <td>(whole milk)</td>\n",
       "      <td>0.139502</td>\n",
       "      <td>0.255516</td>\n",
       "      <td>0.056024</td>\n",
       "      <td>0.401603</td>\n",
       "      <td>1.571735</td>\n",
       "      <td>0.020379</td>\n",
       "      <td>1.244132</td>\n",
       "    </tr>\n",
       "    <tr>\n",
       "      <th>2</th>\n",
       "      <td>(other vegetables)</td>\n",
       "      <td>(whole milk)</td>\n",
       "      <td>0.193493</td>\n",
       "      <td>0.255516</td>\n",
       "      <td>0.074835</td>\n",
       "      <td>0.386758</td>\n",
       "      <td>1.513634</td>\n",
       "      <td>0.025394</td>\n",
       "      <td>1.214013</td>\n",
       "    </tr>\n",
       "    <tr>\n",
       "      <th>0</th>\n",
       "      <td>(whole milk)</td>\n",
       "      <td>(yogurt)</td>\n",
       "      <td>0.255516</td>\n",
       "      <td>0.139502</td>\n",
       "      <td>0.056024</td>\n",
       "      <td>0.219260</td>\n",
       "      <td>1.571735</td>\n",
       "      <td>0.020379</td>\n",
       "      <td>1.102157</td>\n",
       "    </tr>\n",
       "  </tbody>\n",
       "</table>\n",
       "</div>"
      ],
      "text/plain": [
       "          antecedents   consequents  antecedent support  consequent support  \\\n",
       "1            (yogurt)  (whole milk)            0.139502            0.255516   \n",
       "2  (other vegetables)  (whole milk)            0.193493            0.255516   \n",
       "0        (whole milk)      (yogurt)            0.255516            0.139502   \n",
       "\n",
       "    support  confidence      lift  leverage  conviction  \n",
       "1  0.056024    0.401603  1.571735  0.020379    1.244132  \n",
       "2  0.074835    0.386758  1.513634  0.025394    1.214013  \n",
       "0  0.056024    0.219260  1.571735  0.020379    1.102157  "
      ]
     },
     "execution_count": 75,
     "metadata": {},
     "output_type": "execute_result"
    }
   ],
   "source": [
    "rules = association_rules(freq_items, metric=\"confidence\", min_threshold=0.01)\n",
    "rules.head(3).sort_values('confidence', ascending = False)"
   ]
  },
  {
   "cell_type": "markdown",
   "metadata": {},
   "source": [
    "#### Вместо вывода:"
   ]
  },
  {
   "cell_type": "markdown",
   "metadata": {},
   "source": [
    "На основе анализа ассоциативных связей можно оптимизировать набор товаров в магазине. Больше и чаще закупать йогурт, овощи и молоко, возможно расширить их ассортимент. Возможно стоит проанализировать, что еще покупается с основными наиболее популярными продуктами, тем самым расширить представленный ассортимент, возможно сделать перестановку полок с продуктами между собой"
   ]
  },
  {
   "cell_type": "code",
   "execution_count": null,
   "metadata": {},
   "outputs": [],
   "source": []
  },
  {
   "cell_type": "markdown",
   "metadata": {},
   "source": [
    "### Завдання 2:"
   ]
  },
  {
   "cell_type": "markdown",
   "metadata": {},
   "source": [
    "Завантажте файл https://www.kaggle.com/vjchoudhary7/customer-segmentation-tutorial-in-python\n",
    " \n",
    "- Спробуйте провести кластеризацію, тобто виділити цільові групи, для яких можна впроваджувати певні маркетингові акції\n",
    "- Опишіть отримані результати"
   ]
  },
  {
   "cell_type": "code",
   "execution_count": 101,
   "metadata": {},
   "outputs": [],
   "source": [
    "\n",
    "import matplotlib.pyplot as plt\n",
    "from mpl_toolkits.mplot3d import Axes3D"
   ]
  },
  {
   "cell_type": "code",
   "execution_count": 78,
   "metadata": {},
   "outputs": [
    {
     "data": {
      "text/html": [
       "<div>\n",
       "<style scoped>\n",
       "    .dataframe tbody tr th:only-of-type {\n",
       "        vertical-align: middle;\n",
       "    }\n",
       "\n",
       "    .dataframe tbody tr th {\n",
       "        vertical-align: top;\n",
       "    }\n",
       "\n",
       "    .dataframe thead th {\n",
       "        text-align: right;\n",
       "    }\n",
       "</style>\n",
       "<table border=\"1\" class=\"dataframe\">\n",
       "  <thead>\n",
       "    <tr style=\"text-align: right;\">\n",
       "      <th></th>\n",
       "      <th>CustomerID</th>\n",
       "      <th>Gender</th>\n",
       "      <th>Age</th>\n",
       "      <th>Annual Income (k$)</th>\n",
       "      <th>Spending Score (1-100)</th>\n",
       "    </tr>\n",
       "  </thead>\n",
       "  <tbody>\n",
       "    <tr>\n",
       "      <th>0</th>\n",
       "      <td>1</td>\n",
       "      <td>Male</td>\n",
       "      <td>19</td>\n",
       "      <td>15</td>\n",
       "      <td>39</td>\n",
       "    </tr>\n",
       "    <tr>\n",
       "      <th>1</th>\n",
       "      <td>2</td>\n",
       "      <td>Male</td>\n",
       "      <td>21</td>\n",
       "      <td>15</td>\n",
       "      <td>81</td>\n",
       "    </tr>\n",
       "    <tr>\n",
       "      <th>2</th>\n",
       "      <td>3</td>\n",
       "      <td>Female</td>\n",
       "      <td>20</td>\n",
       "      <td>16</td>\n",
       "      <td>6</td>\n",
       "    </tr>\n",
       "    <tr>\n",
       "      <th>3</th>\n",
       "      <td>4</td>\n",
       "      <td>Female</td>\n",
       "      <td>23</td>\n",
       "      <td>16</td>\n",
       "      <td>77</td>\n",
       "    </tr>\n",
       "    <tr>\n",
       "      <th>4</th>\n",
       "      <td>5</td>\n",
       "      <td>Female</td>\n",
       "      <td>31</td>\n",
       "      <td>17</td>\n",
       "      <td>40</td>\n",
       "    </tr>\n",
       "  </tbody>\n",
       "</table>\n",
       "</div>"
      ],
      "text/plain": [
       "   CustomerID  Gender  Age  Annual Income (k$)  Spending Score (1-100)\n",
       "0           1    Male   19                  15                      39\n",
       "1           2    Male   21                  15                      81\n",
       "2           3  Female   20                  16                       6\n",
       "3           4  Female   23                  16                      77\n",
       "4           5  Female   31                  17                      40"
      ]
     },
     "execution_count": 78,
     "metadata": {},
     "output_type": "execute_result"
    }
   ],
   "source": [
    "df_c = pd.read_csv(r'D:\\Работа ВВЮ\\DataScience\\Mall_Customers.csv')\n",
    "df_c.head()"
   ]
  },
  {
   "cell_type": "code",
   "execution_count": 79,
   "metadata": {},
   "outputs": [
    {
     "data": {
      "text/plain": [
       "(200, 5)"
      ]
     },
     "execution_count": 79,
     "metadata": {},
     "output_type": "execute_result"
    }
   ],
   "source": [
    "df_c.shape"
   ]
  },
  {
   "cell_type": "code",
   "execution_count": 90,
   "metadata": {},
   "outputs": [
    {
     "data": {
      "text/html": [
       "<div>\n",
       "<style scoped>\n",
       "    .dataframe tbody tr th:only-of-type {\n",
       "        vertical-align: middle;\n",
       "    }\n",
       "\n",
       "    .dataframe tbody tr th {\n",
       "        vertical-align: top;\n",
       "    }\n",
       "\n",
       "    .dataframe thead th {\n",
       "        text-align: right;\n",
       "    }\n",
       "</style>\n",
       "<table border=\"1\" class=\"dataframe\">\n",
       "  <thead>\n",
       "    <tr style=\"text-align: right;\">\n",
       "      <th></th>\n",
       "      <th>Gender</th>\n",
       "      <th>Age</th>\n",
       "      <th>Annual Income (k$)</th>\n",
       "      <th>Spending Score (1-100)</th>\n",
       "    </tr>\n",
       "    <tr>\n",
       "      <th>CustomerID</th>\n",
       "      <th></th>\n",
       "      <th></th>\n",
       "      <th></th>\n",
       "      <th></th>\n",
       "    </tr>\n",
       "  </thead>\n",
       "  <tbody>\n",
       "    <tr>\n",
       "      <th>1</th>\n",
       "      <td>Male</td>\n",
       "      <td>19</td>\n",
       "      <td>15</td>\n",
       "      <td>39</td>\n",
       "    </tr>\n",
       "    <tr>\n",
       "      <th>2</th>\n",
       "      <td>Male</td>\n",
       "      <td>21</td>\n",
       "      <td>15</td>\n",
       "      <td>81</td>\n",
       "    </tr>\n",
       "    <tr>\n",
       "      <th>3</th>\n",
       "      <td>Female</td>\n",
       "      <td>20</td>\n",
       "      <td>16</td>\n",
       "      <td>6</td>\n",
       "    </tr>\n",
       "    <tr>\n",
       "      <th>4</th>\n",
       "      <td>Female</td>\n",
       "      <td>23</td>\n",
       "      <td>16</td>\n",
       "      <td>77</td>\n",
       "    </tr>\n",
       "    <tr>\n",
       "      <th>5</th>\n",
       "      <td>Female</td>\n",
       "      <td>31</td>\n",
       "      <td>17</td>\n",
       "      <td>40</td>\n",
       "    </tr>\n",
       "    <tr>\n",
       "      <th>...</th>\n",
       "      <td>...</td>\n",
       "      <td>...</td>\n",
       "      <td>...</td>\n",
       "      <td>...</td>\n",
       "    </tr>\n",
       "    <tr>\n",
       "      <th>196</th>\n",
       "      <td>Female</td>\n",
       "      <td>35</td>\n",
       "      <td>120</td>\n",
       "      <td>79</td>\n",
       "    </tr>\n",
       "    <tr>\n",
       "      <th>197</th>\n",
       "      <td>Female</td>\n",
       "      <td>45</td>\n",
       "      <td>126</td>\n",
       "      <td>28</td>\n",
       "    </tr>\n",
       "    <tr>\n",
       "      <th>198</th>\n",
       "      <td>Male</td>\n",
       "      <td>32</td>\n",
       "      <td>126</td>\n",
       "      <td>74</td>\n",
       "    </tr>\n",
       "    <tr>\n",
       "      <th>199</th>\n",
       "      <td>Male</td>\n",
       "      <td>32</td>\n",
       "      <td>137</td>\n",
       "      <td>18</td>\n",
       "    </tr>\n",
       "    <tr>\n",
       "      <th>200</th>\n",
       "      <td>Male</td>\n",
       "      <td>30</td>\n",
       "      <td>137</td>\n",
       "      <td>83</td>\n",
       "    </tr>\n",
       "  </tbody>\n",
       "</table>\n",
       "<p>200 rows × 4 columns</p>\n",
       "</div>"
      ],
      "text/plain": [
       "            Gender  Age  Annual Income (k$)  Spending Score (1-100)\n",
       "CustomerID                                                         \n",
       "1             Male   19                  15                      39\n",
       "2             Male   21                  15                      81\n",
       "3           Female   20                  16                       6\n",
       "4           Female   23                  16                      77\n",
       "5           Female   31                  17                      40\n",
       "...            ...  ...                 ...                     ...\n",
       "196         Female   35                 120                      79\n",
       "197         Female   45                 126                      28\n",
       "198           Male   32                 126                      74\n",
       "199           Male   32                 137                      18\n",
       "200           Male   30                 137                      83\n",
       "\n",
       "[200 rows x 4 columns]"
      ]
     },
     "execution_count": 90,
     "metadata": {},
     "output_type": "execute_result"
    }
   ],
   "source": [
    "df_c.set_index('CustomerID')"
   ]
  },
  {
   "cell_type": "code",
   "execution_count": 109,
   "metadata": {},
   "outputs": [],
   "source": [
    "features = df_c[['Age', 'Annual Income (k$)', 'Spending Score (1-100)']]\n"
   ]
  },
  {
   "cell_type": "code",
   "execution_count": 110,
   "metadata": {},
   "outputs": [],
   "source": [
    "from sklearn.preprocessing import StandardScaler\n",
    "scaler = StandardScaler()\n",
    "scaled_features = scaler.fit_transform(features)\n",
    "\n"
   ]
  },
  {
   "cell_type": "code",
   "execution_count": 111,
   "metadata": {},
   "outputs": [],
   "source": [
    "from sklearn.cluster import KMeans\n",
    "kmeans = KMeans(init=\"random\", n_clusters=3, n_init=10, max_iter=300, random_state=42)"
   ]
  },
  {
   "cell_type": "code",
   "execution_count": 112,
   "metadata": {},
   "outputs": [
    {
     "data": {
      "text/plain": [
       "KMeans(init='random', n_clusters=3, random_state=42)"
      ]
     },
     "execution_count": 112,
     "metadata": {},
     "output_type": "execute_result"
    }
   ],
   "source": [
    "kmeans.fit(scaled_features)"
   ]
  },
  {
   "cell_type": "code",
   "execution_count": 113,
   "metadata": {},
   "outputs": [
    {
     "data": {
      "text/plain": [
       "295.26029648861186"
      ]
     },
     "execution_count": 113,
     "metadata": {},
     "output_type": "execute_result"
    }
   ],
   "source": [
    "kmeans.inertia_"
   ]
  },
  {
   "cell_type": "code",
   "execution_count": 114,
   "metadata": {},
   "outputs": [
    {
     "data": {
      "text/plain": [
       "array([[-0.93381128, -0.67979753,  0.1338202 ],\n",
       "       [-0.44315931,  1.03973525,  1.17726383],\n",
       "       [ 0.8828863 ,  0.05040024, -0.61076442]])"
      ]
     },
     "execution_count": 114,
     "metadata": {},
     "output_type": "execute_result"
    }
   ],
   "source": [
    "kmeans.cluster_centers_"
   ]
  },
  {
   "cell_type": "code",
   "execution_count": 115,
   "metadata": {},
   "outputs": [
    {
     "data": {
      "text/plain": [
       "4"
      ]
     },
     "execution_count": 115,
     "metadata": {},
     "output_type": "execute_result"
    }
   ],
   "source": [
    "kmeans.n_iter_"
   ]
  }
 ],
 "metadata": {
  "kernelspec": {
   "display_name": "Python 3",
   "language": "python",
   "name": "python3"
  },
  "language_info": {
   "codemirror_mode": {
    "name": "ipython",
    "version": 3
   },
   "file_extension": ".py",
   "mimetype": "text/x-python",
   "name": "python",
   "nbconvert_exporter": "python",
   "pygments_lexer": "ipython3",
   "version": "3.8.5"
  }
 },
 "nbformat": 4,
 "nbformat_minor": 2
}
