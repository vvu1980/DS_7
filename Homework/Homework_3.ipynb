{
 "cells": [
  {
   "cell_type": "markdown",
   "metadata": {},
   "source": [
    "### Завдання 1\n",
    "    Дано ціле число. Якщо воно додатнє, то помножити його на 2; в іншому випадку не змінювати його.\n",
    "    Вивести кінцеве значення."
   ]
  },
  {
   "cell_type": "code",
   "execution_count": 2,
   "metadata": {},
   "outputs": [
    {
     "name": "stdout",
     "output_type": "stream",
     "text": [
      "-3\n",
      "-3\n"
     ]
    }
   ],
   "source": [
    "n = int(input())\n",
    "if n > 0:\n",
    "    print(n*2)\n",
    "else:\n",
    "    print(n)"
   ]
  },
  {
   "cell_type": "markdown",
   "metadata": {},
   "source": [
    "### Завдання 2\n",
    "    Дано два цілих числа. Якщо вони рівні, то присвоїти цим змінним нулі;\n",
    "    в іншому випадку  - кожній змінній присвоїти суму цих значень."
   ]
  },
  {
   "cell_type": "code",
   "execution_count": 7,
   "metadata": {},
   "outputs": [
    {
     "name": "stdout",
     "output_type": "stream",
     "text": [
      "4\n",
      "5\n",
      "9 9\n"
     ]
    }
   ],
   "source": [
    "a = int(input())\n",
    "b = int(input())\n",
    "\n",
    "if a == b:\n",
    "    a = 0\n",
    "    b = 0\n",
    "    print(a, b)\n",
    "else:\n",
    "    a = a+b\n",
    "    b = a\n",
    "    \n",
    "    print(a, b)\n",
    "    "
   ]
  },
  {
   "cell_type": "markdown",
   "metadata": {},
   "source": [
    "### Завдання 3\n",
    "    Дано три цілих числа. Знайти суму двох найбільших із них."
   ]
  },
  {
   "cell_type": "code",
   "execution_count": 9,
   "metadata": {},
   "outputs": [
    {
     "name": "stdout",
     "output_type": "stream",
     "text": [
      "4\n",
      "6\n",
      "9\n",
      "15\n"
     ]
    }
   ],
   "source": [
    "a = int(input())\n",
    "b = int(input())\n",
    "c = int(input())\n",
    "\n",
    "if a<b<c:\n",
    "    print(b+c)\n",
    "elif b<a<c:\n",
    "    print(a+c)\n",
    "else:\n",
    "    print(a+b)\n",
    "\n",
    "    "
   ]
  },
  {
   "cell_type": "markdown",
   "metadata": {},
   "source": [
    "### Завдання 4\n",
    "    Дана стрічка. Якщо в цій стрічці відсутня буква \"a\", вивести \"False\".\n",
    "    Якщо буква зустрічається один раз - вивести її індекс.\n",
    "    Якщо більше одного разу - вивести індекс першого та останнього входження.\n",
    "    "
   ]
  },
  {
   "cell_type": "code",
   "execution_count": 25,
   "metadata": {},
   "outputs": [
    {
     "name": "stdout",
     "output_type": "stream",
     "text": [
      "asdqazwqa\n",
      "0 8\n"
     ]
    }
   ],
   "source": [
    "s = input()\n",
    "i=0\n",
    "cum = 0\n",
    "while i<=len(s)-1:\n",
    "    if s[i] == 'a':\n",
    "        cum += 1\n",
    "    i += 1\n",
    "\n",
    "if cum == 1:\n",
    "    print(s.find('a'))\n",
    "elif cum > 1:\n",
    "    print(s.find('a'), s.rfind('a'))\n",
    "elif cum == 0:\n",
    "    print('False')\n"
   ]
  },
  {
   "cell_type": "markdown",
   "metadata": {},
   "source": [
    "### Завдання 5\n",
    "    Дано одне число Price - ціна на 1 кг апельсин. \n",
    "    Вивести вартість 1, 2, ... , 10 кг апельсин.\n",
    "    (Спробуйте вирішити задачу двома способами: циклом FOR та циклом WHILE)"
   ]
  },
  {
   "cell_type": "code",
   "execution_count": 28,
   "metadata": {},
   "outputs": [
    {
     "name": "stdout",
     "output_type": "stream",
     "text": [
      "10\n",
      "0\n",
      "1\n",
      "2\n",
      "3\n",
      "4\n",
      "5\n",
      "6\n",
      "7\n",
      "8\n",
      "9\n",
      "10\n"
     ]
    }
   ],
   "source": [
    "Price = int(input())\n",
    "i=0\n",
    "while i <= Price:\n",
    "    print(i)\n",
    "    i += 1"
   ]
  },
  {
   "cell_type": "code",
   "execution_count": 31,
   "metadata": {},
   "outputs": [
    {
     "name": "stdout",
     "output_type": "stream",
     "text": [
      "10\n",
      "0\n",
      "1\n",
      "2\n",
      "3\n",
      "4\n",
      "5\n",
      "6\n",
      "7\n",
      "8\n",
      "9\n",
      "10\n"
     ]
    }
   ],
   "source": [
    "Price = int(input())\n",
    "for i in range(Price+1):\n",
    "    print(i)"
   ]
  },
  {
   "cell_type": "markdown",
   "metadata": {},
   "source": [
    "### Завдання 6\n",
    "    Дано ціле число. Для цього числа виведіть сходинки.\n",
    "    Наприклад, для числа 5 результат наступний:\n",
    "        #\n",
    "        ##\n",
    "        ###\n",
    "        ####\n",
    "        #####"
   ]
  },
  {
   "cell_type": "code",
   "execution_count": 35,
   "metadata": {},
   "outputs": [
    {
     "name": "stdout",
     "output_type": "stream",
     "text": [
      "6\n",
      "#\n",
      "##\n",
      "###\n",
      "####\n",
      "#####\n",
      "######\n"
     ]
    }
   ],
   "source": [
    "n = int(input())\n",
    "i=1\n",
    "while i <= n:\n",
    "    print('#'*i)\n",
    "    i +=1\n",
    "    \n"
   ]
  },
  {
   "cell_type": "markdown",
   "metadata": {},
   "source": [
    "### Завдання 7\n",
    "    Виведіть суму всіх непарних чисел, що кратні 5, в діапазоні від 0 до 1000."
   ]
  },
  {
   "cell_type": "code",
   "execution_count": 37,
   "metadata": {},
   "outputs": [
    {
     "name": "stdout",
     "output_type": "stream",
     "text": [
      "5\n",
      "15\n",
      "25\n",
      "35\n",
      "45\n",
      "55\n",
      "65\n",
      "75\n",
      "85\n",
      "95\n",
      "105\n",
      "115\n",
      "125\n",
      "135\n",
      "145\n",
      "155\n",
      "165\n",
      "175\n",
      "185\n",
      "195\n",
      "205\n",
      "215\n",
      "225\n",
      "235\n",
      "245\n",
      "255\n",
      "265\n",
      "275\n",
      "285\n",
      "295\n",
      "305\n",
      "315\n",
      "325\n",
      "335\n",
      "345\n",
      "355\n",
      "365\n",
      "375\n",
      "385\n",
      "395\n",
      "405\n",
      "415\n",
      "425\n",
      "435\n",
      "445\n",
      "455\n",
      "465\n",
      "475\n",
      "485\n",
      "495\n",
      "505\n",
      "515\n",
      "525\n",
      "535\n",
      "545\n",
      "555\n",
      "565\n",
      "575\n",
      "585\n",
      "595\n",
      "605\n",
      "615\n",
      "625\n",
      "635\n",
      "645\n",
      "655\n",
      "665\n",
      "675\n",
      "685\n",
      "695\n",
      "705\n",
      "715\n",
      "725\n",
      "735\n",
      "745\n",
      "755\n",
      "765\n",
      "775\n",
      "785\n",
      "795\n",
      "805\n",
      "815\n",
      "825\n",
      "835\n",
      "845\n",
      "855\n",
      "865\n",
      "875\n",
      "885\n",
      "895\n",
      "905\n",
      "915\n",
      "925\n",
      "935\n",
      "945\n",
      "955\n",
      "965\n",
      "975\n",
      "985\n",
      "995\n"
     ]
    }
   ],
   "source": [
    "i = 0\n",
    "while i <= 1000:\n",
    "    if i%10 == 5:\n",
    "        print(i)\n",
    "    i += 1"
   ]
  },
  {
   "cell_type": "markdown",
   "metadata": {},
   "source": [
    "### Завдання 8\n",
    "    На карантині я розпочав бігові тренування. В перший день пробіг 500 метрів.\n",
    "    Кожний наступний день дистанцію збільшую на 10%. Відомо, що карантин триває 30 днів.\n",
    "    \n",
    "        - Яку дистанцію я пробіжу в останній день карантину?\n",
    "        \n",
    "        - Скільки днів потрібно бігати, щоб сумарна дистанція за всі дні \n",
    "            перевищила довжину марафону (42 км)?"
   ]
  },
  {
   "cell_type": "code",
   "execution_count": 39,
   "metadata": {},
   "outputs": [
    {
     "name": "stdout",
     "output_type": "stream",
     "text": [
      "3300.0\n"
     ]
    }
   ],
   "source": [
    "d = 30\n",
    "s = 500\n",
    "\n",
    "print(s*(1+0.1)*n)\n",
    "\n",
    "\n"
   ]
  },
  {
   "cell_type": "code",
   "execution_count": 40,
   "metadata": {},
   "outputs": [
    {
     "name": "stdout",
     "output_type": "stream",
     "text": [
      "76.36363636363636\n"
     ]
    }
   ],
   "source": [
    "S=42000\n",
    "n=S/(s*(1+0.1))\n",
    "print(n)"
   ]
  },
  {
   "cell_type": "code",
   "execution_count": 47,
   "metadata": {},
   "outputs": [
    {
     "name": "stdout",
     "output_type": "stream",
     "text": [
      "6 42883.06049999999\n"
     ]
    }
   ],
   "source": [
    "n = 0\n",
    "s = 500\n",
    "S=42000\n",
    "while s <= S:\n",
    "    s += s*(1+0.1)\n",
    "    n += 1\n",
    "print(n, s)"
   ]
  },
  {
   "cell_type": "markdown",
   "metadata": {},
   "source": [
    "### Завдання 9\n",
    "    Виведіть добуток всіх цілих чисел для послідовності -23, -22, -21, -20, ..., 8, 9, 10, 11, 12"
   ]
  },
  {
   "cell_type": "code",
   "execution_count": 58,
   "metadata": {},
   "outputs": [
    {
     "name": "stdout",
     "output_type": "stream",
     "text": [
      "0\n"
     ]
    }
   ],
   "source": [
    "start = -23\n",
    "stop = 12\n",
    "N=start\n",
    "i = 0\n",
    "for i in range(start, stop+1):\n",
    "     N *= i\n",
    "        \n",
    "print(N)    #в середине последовательности стоит 0. \n",
    "            #При достижении данного нуля, любое произведение будет равно нулю"
   ]
  }
 ],
 "metadata": {
  "kernelspec": {
   "display_name": "Python 3",
   "language": "python",
   "name": "python3"
  },
  "language_info": {
   "codemirror_mode": {
    "name": "ipython",
    "version": 3
   },
   "file_extension": ".py",
   "mimetype": "text/x-python",
   "name": "python",
   "nbconvert_exporter": "python",
   "pygments_lexer": "ipython3",
   "version": "3.8.5"
  }
 },
 "nbformat": 4,
 "nbformat_minor": 4
}
