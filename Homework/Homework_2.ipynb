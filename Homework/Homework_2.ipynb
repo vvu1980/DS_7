{
 "cells": [
  {
   "cell_type": "markdown",
   "metadata": {},
   "source": [
    "### Завдання 1\n",
    "   #### Задано деякі числа A та B (int):\n",
    "        *  Перевірити умову: \"Число A є додатнє\"\n",
    "        *  Перевірити умову: \"Число A парне\"\n",
    "        *  Перевірити умову: \"Число A кратне 13\"\n",
    "        *  Перевірити умову: \"Кожне із чисел A та B - парне\"\n",
    "        *  Перевірити умову: \"Кожне із чисел A та B мають однакову парність \"\n"
   ]
  },
  {
   "cell_type": "code",
   "execution_count": 4,
   "metadata": {},
   "outputs": [
    {
     "name": "stdout",
     "output_type": "stream",
     "text": [
      "4\n",
      "6\n",
      "А - положительное!\n",
      "А - парное!\n",
      "А та В - парные\n",
      "А та В - одинаковая четность\n"
     ]
    }
   ],
   "source": [
    "A = int(input())\n",
    "B = int(input())\n",
    "\n",
    "if A > 0:\n",
    "    print('А - положительное!')\n",
    "    \n",
    "if A % 2 == 0:\n",
    "    print('А - парное!')\n",
    "    \n",
    "if A % 13 == 0:\n",
    "    print('А - кратне 13')\n",
    "          \n",
    "if A % 2== 0 and B % 2 == 0:\n",
    "    print('А та В - парные')\n",
    "          \n",
    "if (A+B)%2 == 0 or (A+B)%2 == 1:\n",
    "    print('А та В - одинаковая четность')\n"
   ]
  },
  {
   "cell_type": "markdown",
   "metadata": {},
   "source": [
    "### Завдання 2\n",
    "    Задано деякий пароль Pass (str). Перевірити чи пароль \"сильний\" \n",
    "    (пароль будемо вважати \"сильним\", якщо він складається з 8 символів (або більше) та містить символ @ або # )  \n",
    "    Програма повертає True або False"
   ]
  },
  {
   "cell_type": "code",
   "execution_count": 20,
   "metadata": {},
   "outputs": [
    {
     "name": "stdout",
     "output_type": "stream",
     "text": [
      "fwie@\n",
      "False\n"
     ]
    }
   ],
   "source": [
    "Pass = str(input())\n",
    "\n",
    "#print(len(Pass))\n",
    "#print(Pass.find('@'))\n",
    "if len(Pass) >= 8:\n",
    "    if (0 <= Pass.find('@') <= len(Pass)) or (0 <= Pass.find('#') <= len(Pass)):\n",
    "        print('True')\n",
    "    else:\n",
    "        print('false')\n",
    "else:\n",
    "    print('False')\n",
    "    \n",
    "    "
   ]
  },
  {
   "cell_type": "markdown",
   "metadata": {},
   "source": [
    "### Завдання 3\n",
    "    Дано деякий символ Char. Вивести символи, що ідуть перед та після символу Char в кодовій таблиці ASCII"
   ]
  },
  {
   "cell_type": "code",
   "execution_count": 32,
   "metadata": {},
   "outputs": [
    {
     "name": "stdout",
     "output_type": "stream",
     "text": [
      "f\n",
      "e g\n"
     ]
    }
   ],
   "source": [
    "import string\n",
    "char = input()\n",
    "ord(char)\n",
    "print(chr(ord(char)-1), chr(ord(char)+1))"
   ]
  },
  {
   "cell_type": "markdown",
   "metadata": {},
   "source": [
    "### Завдання 4\n",
    "    Дана стрічка, що складається із двох слів розділених пробілом.\n",
    "    Слова та порядок букв в словах поміняйте місцями.\n",
    "    (Наприклад, \"One Two\" --> \"owT enO\")"
   ]
  },
  {
   "cell_type": "code",
   "execution_count": 35,
   "metadata": {},
   "outputs": [
    {
     "name": "stdout",
     "output_type": "stream",
     "text": [
      "Hello World\n",
      "dlroW olleH\n"
     ]
    }
   ],
   "source": [
    "Sentence = input()\n",
    "\n",
    "new_Sentence=Sentence[::-1]\n",
    "print(new_Sentence)    "
   ]
  }
 ],
 "metadata": {
  "kernelspec": {
   "display_name": "Python 3",
   "language": "python",
   "name": "python3"
  },
  "language_info": {
   "codemirror_mode": {
    "name": "ipython",
    "version": 3
   },
   "file_extension": ".py",
   "mimetype": "text/x-python",
   "name": "python",
   "nbconvert_exporter": "python",
   "pygments_lexer": "ipython3",
   "version": "3.8.5"
  }
 },
 "nbformat": 4,
 "nbformat_minor": 4
}
