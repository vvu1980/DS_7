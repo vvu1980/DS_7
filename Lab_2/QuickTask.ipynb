{
 "cells": [
  {
   "cell_type": "markdown",
   "metadata": {},
   "source": [
    "### По двох введеним користувачем катетам обчислити довжину гiпотенузи:\n"
   ]
  },
  {
   "cell_type": "code",
   "execution_count": 3,
   "metadata": {},
   "outputs": [
    {
     "name": "stdout",
     "output_type": "stream",
     "text": [
      "3\n",
      "4\n",
      "Довжина гiпотенузи дорiвнюе: 2.65\n"
     ]
    }
   ],
   "source": [
    "import math\n",
    "a = int(input())\n",
    "b = int(input())\n",
    "c = round(math.sqrt(a^2+b^2),2)\n",
    "print('Довжина гiпотенузи дорiвнюе:', c) "
   ]
  },
  {
   "cell_type": "markdown",
   "metadata": {},
   "source": [
    "### Розрахувати місячні виплати m і суммарну виплату s по кредиту. Про кредит відомо, що він становить n гривень, береться на y років, під p відсотків:\n"
   ]
  },
  {
   "cell_type": "code",
   "execution_count": 6,
   "metadata": {},
   "outputs": [
    {
     "name": "stdout",
     "output_type": "stream",
     "text": [
      "111111\n",
      "3\n",
      "12\n",
      "Суммарна виплата по кредиту s: 151110.96\n",
      "Щомісячна виплата по кредиту m: 4197.53\n"
     ]
    }
   ],
   "source": [
    "n = int(input()) #сума кредиту\n",
    "y = int(input()) # кількість років\n",
    "p = int(input()) #відсотки\n",
    "s = n*(p/100)*y+n\n",
    "m = s/(y*12)\n",
    "print('Суммарна виплата по кредиту s:', s)\n",
    "print('Щомісячна виплата по кредиту m:', round(m, 2))"
   ]
  },
  {
   "cell_type": "markdown",
   "metadata": {},
   "source": [
    "### Користувач вводить дві букви. Визначити, на яких місцях алфавіту вони стоять, і скільки між ними знаходиться букв:\n"
   ]
  },
  {
   "cell_type": "code",
   "execution_count": 11,
   "metadata": {},
   "outputs": [
    {
     "name": "stdout",
     "output_type": "stream",
     "text": [
      "d\n",
      "g\n",
      "место букви №1: 3\n",
      "место букви №2: 6\n",
      "Расстояние между буквами: 3\n"
     ]
    }
   ],
   "source": [
    "alphabet = 'abcdefghijklmnopqrstuvwxyz'\n",
    "letter_1 = input()\n",
    "letter_2 = input()\n",
    "print('место букви №1:', alphabet.index(letter_1))\n",
    "print('место букви №2:',alphabet.index(letter_2))\n",
    "print('Расстояние между буквами:',abs(alphabet.index(letter_1)-alphabet.index(letter_2)))\n"
   ]
  },
  {
   "cell_type": "code",
   "execution_count": null,
   "metadata": {},
   "outputs": [],
   "source": []
  }
 ],
 "metadata": {
  "kernelspec": {
   "display_name": "Python 3",
   "language": "python",
   "name": "python3"
  },
  "language_info": {
   "codemirror_mode": {
    "name": "ipython",
    "version": 3
   },
   "file_extension": ".py",
   "mimetype": "text/x-python",
   "name": "python",
   "nbconvert_exporter": "python",
   "pygments_lexer": "ipython3",
   "version": "3.8.5"
  }
 },
 "nbformat": 4,
 "nbformat_minor": 4
}
